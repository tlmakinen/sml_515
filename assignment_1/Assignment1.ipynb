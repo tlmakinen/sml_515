{
 "cells": [
  {
   "cell_type": "markdown",
   "metadata": {},
   "source": [
    "# Assignment 1\n",
    "\n",
    "\n",
    "*Please fill out the relevant cells below according to the instructions. When done, save the notebook and export it to PDF, upload both the `ipynb` and the PDF file to Canvas.*"
   ]
  },
  {
   "cell_type": "markdown",
   "metadata": {},
   "source": [
    "## Group Members\n",
    "\n",
    "*Group submission is highly encouraged. If you submit as part of group, list all group members here. Groups can comprise up to 5 students.*\n",
    "\n",
    "* Adam Applegate\n",
    "* Beatrix Brahms\n",
    "* \n",
    "\n",
    "---"
   ]
  },
  {
   "cell_type": "markdown",
   "metadata": {},
   "source": [
    "## Problem 1: Central Limit Theorem (2pts)\n",
    "\n",
    "Use `scipy.stats` to draw $N$ samples from the uniform and the Cauchy distribution. Confirm whether the mean $\\mu$ of these samples (which is itself a RV) has a distribution $p(\\mu)$ that converges to a normal distribution when $N\\rightarrow\\infty$.\n",
    "\n",
    "A simple way of testing for normality of the distribution of means is the [68–95–99.7 rule](https://en.wikipedia.org/wiki/68%E2%80%9395%E2%80%9399.7_rule), i.e. you expect that there are only about 5% of the means (of a draw of $N$ samples) that deviate from $\\mathrm{mean}(\\mu)$ by more than $2 \\sqrt{\\mathrm{var}(\\mu)}$.\n",
    "\n",
    "Visualization can be helpful but is itself not a sufficient conformation of normality!"
   ]
  },
  {
   "cell_type": "code",
   "execution_count": null,
   "metadata": {},
   "outputs": [],
   "source": []
  },
  {
   "cell_type": "markdown",
   "metadata": {},
   "source": [
    "## Problem 2: Game Show Strategy (3pts)\n",
    "\n",
    "On a game show, a contestant is told the rules as follows:\n",
    "> There are three doors, labelled 1, 2, 3. A single prize has been hidden behind one of them. You get to select one door. Initially your chosen door will not be opened. Instead, the game show host will open one of the other two doors, and he will do so in such a way as not to reveal the prize. For example, if you first choose door 1, he will then open one of doors 2 and 3, and it is guaranteed that he will choose which one to open so that the prize will not be revealed.\n",
    "> At this point, you will be given a fresh choice of door: you can either stick with your first choice, or you can switch to the other closed door. All the doors will then be opened and you will receive whatever is behind your final choice of door.\n",
    "\n",
    "Imagine that the contestant chooses door 1 first; then the game show host opens door 3, revealing nothing behind the door, as promised. Should the contestant (a) stick with door 1, or (b) switch to door 2, or (c) does it make no difference?\n",
    "\n",
    "Justify your answer, either by writing code or equations with text, or both.\n",
    "\n",
    "Tip: Use Bayes Theorem, enumerate all options, and think about information flow."
   ]
  },
  {
   "cell_type": "code",
   "execution_count": null,
   "metadata": {},
   "outputs": [],
   "source": []
  },
  {
   "cell_type": "markdown",
   "metadata": {},
   "source": [
    "## Problem 3: Likelihood vs Prior (1pt)\n",
    "\n",
    "Leveraging again `scipy.stats`, reproduce the figure from [this](https://twitter.com/avehtari/status/1218896617346162688?s=20) tweet. To see it here, execute the next cell.\n",
    "\n",
    "In detail, choose [Student's t distribution](https://docs.scipy.org/doc/scipy/reference/generated/scipy.stats.t.html#scipy.stats.t) with 4 degrees of freedom and the standard normal distribution for either the likelihood or the prior, but separate them by $\\delta x=10$. Compute and plot the posteriors.\n",
    "\n",
    "Which of these prior distributions is more robust to outliers in the data?"
   ]
  },
  {
   "cell_type": "code",
   "execution_count": 1,
   "metadata": {
    "hide_input": "true"
   },
   "outputs": [
    {
     "data": {
      "text/html": [
       "<blockquote class=\"twitter-tweet\"><p lang=\"en\" dir=\"ltr\">Here&#39;s an illustration of this...<br><br>...wait, where did that mule go? <a href=\"https://t.co/jR589tfZLE\">https://t.co/jR589tfZLE</a> <a href=\"https://t.co/c05luQePpQ\">pic.twitter.com/c05luQePpQ</a></p>&mdash; Aki Vehtari (@avehtari) <a href=\"https://twitter.com/avehtari/status/1218896617346162688?ref_src=twsrc%5Etfw\">January 19, 2020</a></blockquote>\n",
       "<script async src=\"https://platform.twitter.com/widgets.js\" charset=\"utf-8\"></script>\n"
      ],
      "text/plain": [
       "<__main__.Tweet at 0x7ff5f7fe14a8>"
      ]
     },
     "execution_count": 1,
     "metadata": {},
     "output_type": "execute_result"
    }
   ],
   "source": [
    "import requests\n",
    "\n",
    "class Tweet(object):\n",
    "    def __init__(self, s, embed_str=False):\n",
    "        if not embed_str:\n",
    "            # Use Twitter's oEmbed API\n",
    "            # https://dev.twitter.com/web/embedded-tweets\n",
    "            api = 'https://publish.twitter.com/oembed?url={}'.format(s)\n",
    "            response = requests.get(api)\n",
    "            self.text = response.json()[\"html\"]\n",
    "        else:\n",
    "            self.text = s\n",
    "\n",
    "    def _repr_html_(self):\n",
    "        return self.text\n",
    "\n",
    "Tweet(\"https://twitter.com/avehtari/status/1218896617346162688?s=20\")"
   ]
  },
  {
   "cell_type": "markdown",
   "metadata": {},
   "source": [
    "# response"
   ]
  },
  {
   "cell_type": "markdown",
   "metadata": {},
   "source": [
    "We know that according to Bayes' rule, our posterior distribution takes the following form:\n",
    "$$ \\mathbb{P}(\\theta\\ |\\  \\mathcal{D}) = \\frac{\\mathbb{P}(\\mathcal{D}\\ |\\ \\theta) \\mathbb{P}(\\theta)}{\\mathbb{P}(\\mathcal{D})}$$\n",
    "where \n",
    "- $\\mathbb{P}(\\mathcal{D}\\ |\\ \\theta)$ is the likelihood of observing $\\mathcal{D}$ given the model parameters $\\theta$\n",
    "- $\\mathbb{P}(\\theta)$ is the prior distribution over possible parameters $\\theta$\n",
    "- $\\mathbb{P}(\\mathcal{D}) = \\int \\mathbb{P}(\\mathcal{D}\\ |\\ \\theta) \\mathbb{P}(\\theta) d\\theta$ is the *evidence* or normalization"
   ]
  },
  {
   "cell_type": "code",
   "execution_count": 41,
   "metadata": {},
   "outputs": [],
   "source": [
    "import numpy as np\n",
    "import scipy.integrate\n",
    "import scipy.stats as ss\n",
    "import matplotlib.pyplot as plt\n",
    "%matplotlib inline"
   ]
  },
  {
   "cell_type": "code",
   "execution_count": 21,
   "metadata": {},
   "outputs": [],
   "source": [
    "n = ss.norm(loc=5, scale=1)\n",
    "t =  ss.t(loc=5, df=1)"
   ]
  },
  {
   "cell_type": "code",
   "execution_count": 47,
   "metadata": {},
   "outputs": [],
   "source": [
    "evidence = np.sum(x*n.pdf(x))"
   ]
  },
  {
   "cell_type": "code",
   "execution_count": 48,
   "metadata": {},
   "outputs": [
    {
     "data": {
      "text/plain": [
       "249.7498614592078"
      ]
     },
     "execution_count": 48,
     "metadata": {},
     "output_type": "execute_result"
    }
   ],
   "source": [
    "evidence"
   ]
  },
  {
   "cell_type": "code",
   "execution_count": 42,
   "metadata": {},
   "outputs": [],
   "source": [
    "def compute_evidence(f):\n",
    "    return scipy.integrate.quad(f, -np.inf, np.inf)"
   ]
  },
  {
   "cell_type": "code",
   "execution_count": 114,
   "metadata": {},
   "outputs": [],
   "source": [
    "x = np.linspace(-100, 100, 100000)\n",
    "\n",
    "likelihoods = [ss.norm(loc=5, scale=1).pdf(x), ss.t(loc=5, df=1).pdf(x), ss.t(loc=5, df=1).pdf(x)]\n",
    "\n",
    "priors = [ss.t.pdf(x, loc=-5, df=1), ss.norm.pdf(x, loc=-5, scale=1), ss.t.pdf(x, loc=-5, df=1)]\n",
    "\n",
    "posteriors = [likelihoods[i] * priors[i] for i in range(len(priors))]\n",
    "\n",
    "evidence =  [np.dot(x,likelihoods[i]) for i in range(len(likelihoods))]\n",
    "\n",
    "colors = ['b', 'r', 'm']\n",
    "\n",
    "prior_types = ['t4', 'N', 't4']\n",
    "like_types = ['N', 't4', 't4']"
   ]
  },
  {
   "cell_type": "code",
   "execution_count": 124,
   "metadata": {},
   "outputs": [
    {
     "data": {
      "text/plain": [
       "Text(0.5, 0, '${x}$')"
      ]
     },
     "execution_count": 124,
     "metadata": {},
     "output_type": "execute_result"
    },
    {
     "data": {
      "image/png": "[encoded data removed]",
      "text/plain": [
       "<Figure size 792x360 with 3 Axes>"
      ]
     },
     "metadata": {
      "needs_background": "light"
     },
     "output_type": "display_data"
    }
   ],
   "source": [
    "fig,axs = plt.subplots(3, 1, figsize=(11,5))\n",
    "for i in range(len(axs)):\n",
    "    axs[i].plot(x, priors[i], color='b')\n",
    "    axs[i].plot(x, likelihoods[i], color='r')\n",
    "    axs[i].plot(x, posteriors[i]*200, color='m', linestyle='--')\n",
    "    axs[i].text(-7.3, np.max(priors[i])*0.7, s='Prior ' + prior_types[i], color='b', fontsize=11)  # label priors\n",
    "    axs[i].text(7.5, np.max(likelihoods[i])*0.7, s='Likelihood ' + like_types[i], color='r', fontsize=11)  # label likes\n",
    "    axs[i].text(1.5, np.max(posteriors[i])*200*0.9, s='Posterior ' + like_types[i], color='m', fontsize=11)  # label likes\n",
    "    axs[i].set_ylabel('density', fontsize=17)\n",
    "    axs[i].set_xlim(-10, 10)\n",
    "\n",
    "    \n",
    "plt.xlabel(r'${x}$', fontsize=20)\n"
   ]
  },
  {
   "cell_type": "markdown",
   "metadata": {},
   "source": [
    "We see that the third model is more robust to outliers, since the posterior surface is peaked both at \"donkey\" $x=-5$ and \"horse\", $x=5$, such that the probability of seeing a mule at $x=0$ is very low."
   ]
  },
  {
   "cell_type": "markdown",
   "metadata": {},
   "source": [
    "## Problem 4: Hubble was no Bayesian (4pts)\n",
    "\n",
    "...but you can be!\n",
    "\n",
    "In 1929, Edwin Hubble published a seminal [paper](http://www.pnas.org/content/pnas/15/3/168.full.pdf), in which he compared the radial velocity of astronomical objects (i.e. how fast these objects move towards or away from us) with their distance. The former can be done pretty precisely with spectroscopy, the latter is much more uncertain. His original data are attached to this Assignment on Canvas.\n",
    "\n",
    "He saw that the velocity increases with distance and speculated that this could be the sign of a cosmological expansion. This lead cosmologist to believe in the Big Bang theory."
   ]
  },
  {
   "cell_type": "markdown",
   "metadata": {},
   "source": [
    "### Step 0:\n",
    "\n",
    "Load the data into an array with `numpy.genfromtxt`, make use of its arguments `names` and `dtype` to read in the column names from the header and choosing the data type on its own as needed. You should get 6 columns\n",
    "   * `CAT`, `NUMBER`:  These two combined give you the name of the galaxy.\n",
    "   * `R`: distance in Mpc\n",
    "   * `V`: radial velocity in km/s\n",
    "   * `RA`, `DEC`: equatorial coordinates of the galaxy\n",
    "   \n",
    "Make a scatter plot of $R$ vs $V$. Don't forget labels and units..."
   ]
  },
  {
   "cell_type": "code",
   "execution_count": null,
   "metadata": {},
   "outputs": [],
   "source": []
  },
  {
   "cell_type": "markdown",
   "metadata": {},
   "source": [
    "### Step 1 (1pt):\n",
    "\n",
    "Use linear regression to determine the MLE of the slope $b$ for the line $R=b V$. This is a linear model **with no intercept**. Print the MLE. Then, create a new version of the scatter plot by adding the MLE line.\n",
    "\n",
    "Tip: You don't need measurement uncertainties (there aren't any in Hubble's data) to determine the MLE."
   ]
  },
  {
   "cell_type": "code",
   "execution_count": null,
   "metadata": {},
   "outputs": [],
   "source": []
  },
  {
   "cell_type": "markdown",
   "metadata": {},
   "source": [
    "### Step 2 (2pts):\n",
    "\n",
    "The full Gaussian likelihood of the linear regression problem has a term for the intercept $a$, slope $b$, and *uncertainty* $\\sigma$ of $R$. We will assume that the uncertainties of all data points are identical. Adopt maximally uniformative priors for all of the parameters $\\theta=(a,b,\\sigma)$.\n",
    "\n",
    "Compute the log posterior on a reasonably fine grid of $(a,b,\\sigma)$, picking suitable limits for every parameter. Then marginalize out $\\sigma$ and plot the log posterior for the remaining parameters $(a,b)$.\n",
    "\n",
    "Tip: The function `scipy.special.logsumexp` is useful."
   ]
  },
  {
   "cell_type": "code",
   "execution_count": null,
   "metadata": {},
   "outputs": [],
   "source": []
  },
  {
   "cell_type": "markdown",
   "metadata": {},
   "source": [
    "### Step 3 (1pt):\n",
    "\n",
    "Use the function `sample_2d` below to draw samples from the 2D array of the posterior of $(a,b)$. Create a final version of the scatter plot by adding the lines that correspond to these posterior draws.\n",
    "\n",
    "Tip: When plotting, set the transparency `alpha` to values < 1, so that multiple draws of the same parameter pair become visually more important."
   ]
  },
  {
   "cell_type": "code",
   "execution_count": null,
   "metadata": {},
   "outputs": [],
   "source": [
    "# taken from https://stackoverflow.com/questions/56017163/given-a-2d-numpy-array-representing-a-2d-distribution-how-to-sample-data-from-t\n",
    "def sample_2d(dist2d, n=50):\n",
    "    \"\"\"\n",
    "    Given an array representing a 2D joint probability distribution p(x,y), return n index pairs (i_x, i_y) sampled\n",
    "    according to that distribution\n",
    "    \"\"\"\n",
    "    import numpy as np\n",
    "\n",
    "    shape = dist2d.shape\n",
    "    N = np.prod(shape)\n",
    "    \n",
    "    # generate the set of all x,y pairs represented by the pmf\n",
    "    pairs=np.indices(dimensions=shape).T # here are all of the x,y pairs \n",
    "\n",
    "    # make n random selections from the flattened pmf without replacement\n",
    "    inds = np.random.choice(np.arange(N), p=dist2d.reshape(-1), size=n, replace=True)\n",
    "\n",
    "    # inds is the set of n randomly chosen indicies into the flattened dist array...\n",
    "    # therefore the random x,y selections\n",
    "    # come from selecting the associated elements\n",
    "    # from the flattened pairs array\n",
    "    return pairs.reshape(-1,2)[inds]"
   ]
  },
  {
   "cell_type": "code",
   "execution_count": null,
   "metadata": {},
   "outputs": [],
   "source": []
  }
 ],
 "metadata": {
  "kernelspec": {
   "display_name": "Python 3",
   "language": "python",
   "name": "python3"
  },
  "language_info": {
   "codemirror_mode": {
    "name": "ipython",
    "version": 3
   },
   "file_extension": ".py",
   "mimetype": "text/x-python",
   "name": "python",
   "nbconvert_exporter": "python",
   "pygments_lexer": "ipython3",
   "version": "3.6.9"
  }
 },
 "nbformat": 4,
 "nbformat_minor": 4
}
